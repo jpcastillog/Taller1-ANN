{
 "cells": [
  {
   "cell_type": "markdown",
   "metadata": {
    "colab_type": "text",
    "id": "L5rfZ_hYaQ1Z"
   },
   "source": [
    "<img src=\"http://www.exalumnos.usm.cl/wp-content/uploads/2015/06/Isotipo-Negro.gif\" title=\"Title text\" width=\"30%\" />\n",
    "\n",
    "<hr style=\"height:2px;border:none\"/>\n",
    "<h1 align='center'> INF-395/477 Redes Neuronales Artificiales I-2020 </h1>\n",
    "\n",
    "<H3 align='center'> Tarea 1 - Redes Neuronales y *Deep Learning* </H3>\n",
    "<hr style=\"height:2px;border:none\"/>\n",
    "\n",
    "**Temas**  \n",
    "\n",
    "* Arquitectura Básica de Redes Neuronales. Redes *Feed-Forward*\n",
    "* Entrenamiento de Redes Neuronales. \n",
    "* Redes Convolucionales. \n",
    "\n",
    "**Formalidades**  \n",
    "* Equipos de trabajo de: 3 personas (*cada uno debe estar en condiciones de realizar una presentación y discutir sobre cada punto del trabajo realizado*)\n",
    "* Formato de entrega: envı́o de link Github y link de video Youtube o plataforma a convenir, todo esto vía Aula. \n",
    "\n",
    "<hr style=\"height:2px;border:none\"/>\n",
    "\n",
    "### **Propuesta**\n",
    "* Se debe preparar una presentación de **15 a 20 minutos** donde se explique el cómo se va a realizar/resolver el taller, la metodología o propuesta de las componentes a experimentar y explorar. Más detalles en el Syllabus.\n",
    "* Fecha de encuentro Zoom: 8 de Mayo en horario de clases.\n",
    "* Fecha de entrega de vídeo: Opcional para quienes presentaron y obligatorio para quienes no, a lo más 2 días después del encuentro.\n",
    "* Modalidad de Presentación (Zoom): En el primer bloque, se formarán 3 grupos para que alcancen a recibir feedback todos los equipos. En el segundo bloque, algunos equipos seleccionados presentarán a todo el curso. \n",
    "\n",
    "**Aún si la idea es aprender colaborativamente, valoraremos mucho la diversidad de ideas, por lo que las propuesta debiesen conservar su orientación inicial, excepto por el feedback que les entreguemos**\n",
    "\n",
    "### **Defensa**\n",
    "* Se debe preparar una presentación de **15 a 20 minutos** con los resultados obtenidos y conclusiones de la experiencia. \n",
    "* Se debe entregar el código, de preferencia en un (breve) Jupyter/IPython notebook, de modo que **permita reproducir los resultados** presentados. Si se entrega el código fuente se deben proveer instrucciones para su uso.\n",
    "* Fecha de encuentro Zoom: 29 de Mayo, horario de clases.\n",
    "* Fecha de entrega de vídeo: 27 de Mayo (2 días antes de encuentro).\n",
    "* Fecha de entrega de Jypter (notebook): 27 de Mayo (commits hasta el 29 de Mayo en horario de clases). \n",
    "* Modalidad de Presentación (Zoom): En ambos bloques algunos equipos seleccionados presentarán ante todo el curso, discusión y debate se generará en base a los resultados.\n",
    "\n",
    "<hr style=\"height:2px;border:none\"/>\n",
    "\n",
    "La tarea se divide en secciones:\n",
    "\n",
    "[1.](#primero) Pregunta Libre   \n",
    "[2.](#segundo) Challenge Kaggle\n"
   ]
  },
  {
   "cell_type": "markdown",
   "metadata": {
    "colab_type": "text",
    "id": "fTkbRyusPMok"
   },
   "source": [
    "#### <a id=\"primero\"></a>\n",
    "## 1. Pregunta Libre\n",
    "\n",
    "Refute o evidencie experimentalmente una de las siguientes afirmaciones \n",
    "\n",
    "> **1. Rol de la Profundidad**: Si se toma una arquitectura base cualquiera, $A$, de red neuronal y se añade una capa, $A^{+1}$, siempre se mejorará la tarea objetivo en el conjunto de entrenamiento, validación y pruebas. Eso no depende de la forma de entrenar.\n",
    "\n",
    "R: ¿Que pasa si agrego capas con una neurona?\n",
    "\n",
    "> **2. Teorema de approx. universal**: Una arquitectura de red neuronal tiene la capacidad de aproximar cualquier función y esto es independiente del número de neuronas o capas.\n",
    "\n",
    "R: El detalle, es que la red neuronal tiene la capacidad de aproximar solo funciones **continuas**\n",
    "\n",
    "> **3. Rol de la Profundidad**: Si se toma una arquitectura base $A$ con $n$ neuronas y $L$ capas, y se redistribuyen las neuronas aumentando $L$, será posible aprender mejor y más rápido la tarea. \n",
    "\n",
    "R:\n",
    "\n",
    "> **4. Convergencia**: Con la suficiente cantidad de iteraciones, una red neuronal siempre podrá converger algun mínimo local. El tiempo que tarda es independiente de la tasa de aprendizaje y el tamaño de batch.\n",
    "\n",
    "> **5. Convergencia (2)**: La velocidad de aprendizaje es independiente de la función de activación que se utilice en las capas ocultas y del número de ejemplos de entrenamiento. \n",
    "\n",
    "> **6. Approx universal y tolerancia a ruido**: Una red neuronal tiene la capacidad de aprender en el conjunto entrenado, incluso si el *target* (objetivo de la tarea) es aleatorio. Si el porcentaje de etiquetas corruptas  (por ejemplo con un *shift* o *shuffle* sobre $y$) es pequeño, la red aprende la tarea correcta.\n",
    "\n",
    "> **7. Arquitectura y parámetros de CNN**: Una red convolucional siempre tendrá menor cantidad de parámetros que una red *Feed Forward*, por ende, su desempeño en la tarea estará limitado.\n",
    "\n",
    "> **8. Ventajas de una CNN**: En cualquier problema que se tenga estructura espacial (uni-dimensional como texto o bi-dimensional como imágenes), una red neuronal con arquitectura convolucional será la más **adecuada** para resolverlo.\n",
    "\n",
    "> **9. Aplicaciones de una CNN**: No resulta ventajoso aplicar una red con arquitectura convolucional en problemas de regresión. \n",
    "\n",
    "> **10. Aplicaciones de una NN**: Las redes neuroanles no se aplican correctamente a problemas multi-label.\n",
    "\n",
    "> **11. Limitaciones de una NN**: El desbalanceo de las clases no tiene ningún efecto en el entrenamiento de la red.\n",
    "\n",
    "**Reglas mínimas**: Validar en al menos 1 dataset sintético y 2 reales.\n"
   ]
  },
  {
   "cell_type": "markdown",
   "metadata": {},
   "source": [
    "## XOR Example"
   ]
  },
  {
   "cell_type": "code",
   "execution_count": 1,
   "metadata": {
    "scrolled": true
   },
   "outputs": [
    {
     "name": "stderr",
     "output_type": "stream",
     "text": [
      "Using TensorFlow backend.\n"
     ]
    },
    {
     "name": "stdout",
     "output_type": "stream",
     "text": [
      "matrix size of train set (100000, 2)\n",
      "\n"
     ]
    },
    {
     "data": {
      "text/plain": [
       "0.5008400082588196"
      ]
     },
     "execution_count": 1,
     "metadata": {},
     "output_type": "execute_result"
    }
   ],
   "source": [
    "from keras.models import Sequential\n",
    "from keras.layers.core import Dense, Dropout, Activation\n",
    "from keras.optimizers import SGD\n",
    "import numpy as np\n",
    "\n",
    "size_train = 100000\n",
    "size_test = 200\n",
    "\n",
    "# Create pair of numbers (a, b)\n",
    "a = np.random.randint(0,2,size_train)[:,np.newaxis]\n",
    "b = np.random.randint(0,2,size_train)[:,np.newaxis]\n",
    "# Label of xor, between a and b \n",
    "y = np.logical_xor(a, b).astype(int)\n",
    "x = np.concatenate([a,b], axis=1)\n",
    "print(f'matrix size of train set {x.shape}\\n')\n",
    "\n",
    "# Parameters\n",
    "n_neurons = 1\n",
    "n_layers = 1\n",
    "\n",
    "model = Sequential()\n",
    "model.add(Dense(units=n_neurons, input_dim=x.shape[1], activation='relu'))\n",
    "for i in range (n_layers-1):\n",
    "    model.add(Dense(units=n_neurons,activation='relu'))\n",
    "model.add(Dense(units=1, activation='sigmoid'))\n",
    "model.compile(optimizer=SGD(lr=0.1), loss='binary_crossentropy', metrics=['accuracy'])\n",
    "model.fit(x,y, epochs=25, batch_size=128, verbose=0)\n",
    "\n",
    "model.evaluate(x, y, verbose=0)[1]"
   ]
  },
  {
   "cell_type": "code",
   "execution_count": 3,
   "metadata": {},
   "outputs": [],
   "source": [
    "from sklearn.metrics import mean_squared_error\n",
    "from sklearn.preprocessing import MinMaxScaler\n",
    "from matplotlib import pyplot as plt "
   ]
  },
  {
   "cell_type": "code",
   "execution_count": 4,
   "metadata": {},
   "outputs": [],
   "source": [
    "def ANN_regresion(X, y, input_dim,neurons=2, layers=1, activation='relu', epochs=25, batch_size=128,verbose=0):\n",
    "    model = Sequential()\n",
    "    model.add(Dense(units=neurons, input_dim=input_dim, activation='relu'))\n",
    "    for i in range(layers-1):\n",
    "        model.add(Dense(units=neurons, activation='relu'))\n",
    "    model.add(Dense(units=1))\n",
    "    model.compile(optimizer=SGD(lr=0.1), loss='mse')\n",
    "    model.fit(X, y, epochs=epochs, batch_size=batch_size, verbose=0)\n",
    "    return model"
   ]
  },
  {
   "cell_type": "markdown",
   "metadata": {},
   "source": [
    "##  Continous Function Example"
   ]
  },
  {
   "cell_type": "code",
   "execution_count": 5,
   "metadata": {},
   "outputs": [
    {
     "data": {
      "image/png": "[encoded data removed]",
      "text/plain": [
       "<Figure size 432x288 with 1 Axes>"
      ]
     },
     "metadata": {
      "needs_background": "light"
     },
     "output_type": "display_data"
    },
    {
     "data": {
      "image/png": "[encoded data removed]",
      "text/plain": [
       "<Figure size 432x288 with 1 Axes>"
      ]
     },
     "metadata": {
      "needs_background": "light"
     },
     "output_type": "display_data"
    },
    {
     "name": "stdout",
     "output_type": "stream",
     "text": [
      "Mean Squared Error: 0.0022327981260689667\n"
     ]
    }
   ],
   "source": [
    "# Continuous function\n",
    "f_c = lambda x: np.sin(x)\n",
    "f_c = np.vectorize(f_c)\n",
    "\n",
    "x_c = np.random.uniform(low=-10, high=10, size=(100000,))[:,np.newaxis]\n",
    "y_c = f_c(x_c)\n",
    "\n",
    "# transform to [0~1] scale\n",
    "scale_x = MinMaxScaler()\n",
    "x_c = scale_x.fit_transform(x_c)\n",
    "scale_y = MinMaxScaler()\n",
    "y_c = scale_y.fit_transform(y_c)\n",
    "\n",
    "neurons = 100\n",
    "layers = 2\n",
    "act_function = 'relu'\n",
    "\n",
    "model = ANN_regresion(x_c, y_c, 1,\n",
    "                      neurons=neurons,\n",
    "                      layers=layers,\n",
    "                      activation=act_function,\n",
    "                      epochs=25,\n",
    "                      batch_size=128,\n",
    "                      verbose=0)\n",
    "#  Predict Train Data\n",
    "y_c_hat = model.predict(x_c)\n",
    "\n",
    "# Transform to real scale\n",
    "x_c = scale_x.inverse_transform(x_c)\n",
    "y_c = scale_y.inverse_transform(y_c)\n",
    "y_c_hat = scale_y.inverse_transform(y_c_hat)\n",
    "\n",
    "# Plot functions\n",
    "plt.scatter(x_c, y_c)\n",
    "plt.show()\n",
    "plt.scatter(x_c, y_c_hat)\n",
    "plt.show()\n",
    "\n",
    "print(f'Mean Squared Error: {mean_squared_error(y_c, y_c_hat)}')"
   ]
  },
  {
   "cell_type": "markdown",
   "metadata": {},
   "source": [
    "## Discontinuous Function Example"
   ]
  },
  {
   "cell_type": "code",
   "execution_count": 35,
   "metadata": {},
   "outputs": [
    {
     "name": "stdout",
     "output_type": "stream",
     "text": [
      "(200000, 1)\n"
     ]
    },
    {
     "data": {
      "image/png": "[encoded data removed]",
      "text/plain": [
       "<Figure size 432x288 with 1 Axes>"
      ]
     },
     "metadata": {
      "needs_background": "light"
     },
     "output_type": "display_data"
    },
    {
     "data": {
      "image/png": "[encoded data removed]",
      "text/plain": [
       "<Figure size 432x288 with 1 Axes>"
      ]
     },
     "metadata": {
      "needs_background": "light"
     },
     "output_type": "display_data"
    },
    {
     "name": "stdout",
     "output_type": "stream",
     "text": [
      "Mean Squared Error10041.615318987766\n"
     ]
    }
   ],
   "source": [
    "# Discontinuous function\n",
    "# f_d = lambda x: x**2 if x <0 else 40 + 10*x\n",
    "f_d = lambda x: 1 /(x)\n",
    "f_d = np.vectorize(f_d)\n",
    "x_d_1 = np.random.uniform(low=-5, high=-1e-17, size=(100000,))[:,np.newaxis]\n",
    "x_d_2 = np.random.uniform(low=1e-17, high=5, size=(100000,))[:,np.newaxis]\n",
    "x_d = np.concatenate((x_d_1, x_d_2), axis = 0)\n",
    "print(x_d.shape)\n",
    "y_d = f_d(x_d)\n",
    "\n",
    "# transform to [0~1] scale\n",
    "scale_x = MinMaxScaler()\n",
    "x_d = scale_x.fit_transform(x_d)\n",
    "scale_y = MinMaxScaler()\n",
    "y_d = scale_y.fit_transform(y_d)\n",
    "\n",
    "neurons = 10\n",
    "layers = 100\n",
    "act_function='relu'\n",
    "\n",
    "model = ANN_regresion(x_d, y_d, 1,\n",
    "                      neurons=neurons,\n",
    "                      layers=layers,\n",
    "                      activation=act_function,\n",
    "                      epochs=25,\n",
    "                      batch_size=128,\n",
    "                      verbose=0)\n",
    "# Predict Train Data\n",
    "y_d_hat = model.predict(x_d)\n",
    "\n",
    "# Transform to real scale\n",
    "x_d = scale_x.inverse_transform(x_d)\n",
    "y_d = scale_y.inverse_transform(y_d)\n",
    "y_d_hat = scale_y.inverse_transform(y_d_hat)\n",
    "\n",
    "# Plot functions\n",
    "plt.scatter(x_d, y_d)\n",
    "plt.ylim(-100,100)\n",
    "plt.show()\n",
    "plt.scatter(x_d, y_d_hat)\n",
    "plt.show()\n",
    "print(f'Mean Squared Error{mean_squared_error(y_d, y_d_hat)}')"
   ]
  },
  {
   "cell_type": "code",
   "execution_count": 14,
   "metadata": {},
   "outputs": [
    {
     "data": {
      "image/png": "[encoded data removed]",
      "text/plain": [
       "<Figure size 432x288 with 1 Axes>"
      ]
     },
     "metadata": {
      "needs_background": "light"
     },
     "output_type": "display_data"
    },
    {
     "data": {
      "image/png": "[encoded data removed]",
      "text/plain": [
       "<Figure size 432x288 with 1 Axes>"
      ]
     },
     "metadata": {
      "needs_background": "light"
     },
     "output_type": "display_data"
    }
   ],
   "source": [
    "import math\n",
    "\n",
    "math.ceil(0.1)\n",
    "f_ceil = lambda x: math.ceil(x)\n",
    "f_ceil = np.vectorize(f_ceil)\n",
    "x = np.random.uniform(low=0, high=10, size=(100000,))[:,np.newaxis]\n",
    "y = f_ceil(x)\n",
    "\n",
    "scale_x = MinMaxScaler()\n",
    "x = scale_x.fit_transform(x)\n",
    "scale_y = MinMaxScaler()\n",
    "y = scale_y.fit_transform(y)\n",
    "\n",
    "neurons = 10\n",
    "layers = 10\n",
    "act_function='relu'\n",
    "\n",
    "model = ANN_regresion(x, y, 1,\n",
    "                      neurons=neurons,\n",
    "                      layers=layers,\n",
    "                      activation=act_function,\n",
    "                      epochs=25,\n",
    "                      batch_size=128,\n",
    "                      verbose=0)\n",
    "# Predict Train Data\n",
    "y_hat = model.predict(x)\n",
    "\n",
    "# Transform to real scale\n",
    "x = scale_x.inverse_transform(x)\n",
    "y = scale_y.inverse_transform(y)\n",
    "y_hat = scale_y.inverse_transform(y_hat)\n",
    "\n",
    "\n",
    "plt.scatter(x,y)\n",
    "plt.show()\n",
    "plt.scatter(x,y_hat)\n",
    "plt.show()"
   ]
  },
  {
   "cell_type": "markdown",
   "metadata": {
    "colab_type": "text",
    "id": "Mro0DvciPO8t"
   },
   "source": [
    "#### <a id=\"segundo\"></a>\n",
    "## 2. Challenge Kaggle\n",
    "\n",
    "Pendiente"
   ]
  },
  {
   "cell_type": "code",
   "execution_count": 11,
   "metadata": {},
   "outputs": [
    {
     "data": {
      "text/plain": [
       "(128, 128, 3)"
      ]
     },
     "execution_count": 11,
     "metadata": {},
     "output_type": "execute_result"
    }
   ],
   "source": [
    "image = Image.open('test_images//test_0.jpg')\n",
    "data = np.asarray(image)\n",
    "data.shape"
   ]
  },
  {
   "cell_type": "code",
   "execution_count": 88,
   "metadata": {},
   "outputs": [
    {
     "name": "stdout",
     "output_type": "stream",
     "text": [
      "['altar' 'apse' 'bell_tower' 'column' 'dome_inner' 'dome_outer'\n",
      " 'flying_buttress' 'gargoyle' 'stained_glass' 'vault']\n"
     ]
    },
    {
     "ename": "ValueError",
     "evalue": "The truth value of an array with more than one element is ambiguous. Use a.any() or a.all()",
     "output_type": "error",
     "traceback": [
      "\u001b[1;31m---------------------------------------------------------------------------\u001b[0m",
      "\u001b[1;31mValueError\u001b[0m                                Traceback (most recent call last)",
      "\u001b[1;32m<ipython-input-88-138965166197>\u001b[0m in \u001b[0;36m<module>\u001b[1;34m\u001b[0m\n\u001b[0;32m     37\u001b[0m \u001b[0mprint\u001b[0m\u001b[1;33m(\u001b[0m\u001b[0mclasses\u001b[0m\u001b[1;33m)\u001b[0m\u001b[1;33m\u001b[0m\u001b[1;33m\u001b[0m\u001b[0m\n\u001b[0;32m     38\u001b[0m \u001b[0my_train\u001b[0m \u001b[1;33m=\u001b[0m \u001b[0mnp\u001b[0m\u001b[1;33m.\u001b[0m\u001b[0marray\u001b[0m\u001b[1;33m(\u001b[0m\u001b[0my_train\u001b[0m\u001b[1;33m.\u001b[0m\u001b[0mreplace\u001b[0m\u001b[1;33m(\u001b[0m\u001b[0mlabels\u001b[0m\u001b[1;33m)\u001b[0m\u001b[1;33m.\u001b[0m\u001b[0mtolist\u001b[0m\u001b[1;33m(\u001b[0m\u001b[1;33m)\u001b[0m\u001b[1;33m)\u001b[0m\u001b[1;33m\u001b[0m\u001b[1;33m\u001b[0m\u001b[0m\n\u001b[1;32m---> 39\u001b[1;33m \u001b[0my_train\u001b[0m \u001b[1;33m=\u001b[0m \u001b[0mto_categorical\u001b[0m\u001b[1;33m(\u001b[0m\u001b[0my_train\u001b[0m\u001b[1;33m,\u001b[0m\u001b[0mclasses\u001b[0m\u001b[1;33m)\u001b[0m\u001b[1;33m\u001b[0m\u001b[1;33m\u001b[0m\u001b[0m\n\u001b[0m",
      "\u001b[1;32mc:\\users\\castillo\\appdata\\local\\programs\\python\\python37\\lib\\site-packages\\keras\\utils\\np_utils.py\u001b[0m in \u001b[0;36mto_categorical\u001b[1;34m(y, num_classes, dtype)\u001b[0m\n\u001b[0;32m     46\u001b[0m         \u001b[0minput_shape\u001b[0m \u001b[1;33m=\u001b[0m \u001b[0mtuple\u001b[0m\u001b[1;33m(\u001b[0m\u001b[0minput_shape\u001b[0m\u001b[1;33m[\u001b[0m\u001b[1;33m:\u001b[0m\u001b[1;33m-\u001b[0m\u001b[1;36m1\u001b[0m\u001b[1;33m]\u001b[0m\u001b[1;33m)\u001b[0m\u001b[1;33m\u001b[0m\u001b[1;33m\u001b[0m\u001b[0m\n\u001b[0;32m     47\u001b[0m     \u001b[0my\u001b[0m \u001b[1;33m=\u001b[0m \u001b[0my\u001b[0m\u001b[1;33m.\u001b[0m\u001b[0mravel\u001b[0m\u001b[1;33m(\u001b[0m\u001b[1;33m)\u001b[0m\u001b[1;33m\u001b[0m\u001b[1;33m\u001b[0m\u001b[0m\n\u001b[1;32m---> 48\u001b[1;33m     \u001b[1;32mif\u001b[0m \u001b[1;32mnot\u001b[0m \u001b[0mnum_classes\u001b[0m\u001b[1;33m:\u001b[0m\u001b[1;33m\u001b[0m\u001b[1;33m\u001b[0m\u001b[0m\n\u001b[0m\u001b[0;32m     49\u001b[0m         \u001b[0mnum_classes\u001b[0m \u001b[1;33m=\u001b[0m \u001b[0mnp\u001b[0m\u001b[1;33m.\u001b[0m\u001b[0mmax\u001b[0m\u001b[1;33m(\u001b[0m\u001b[0my\u001b[0m\u001b[1;33m)\u001b[0m \u001b[1;33m+\u001b[0m \u001b[1;36m1\u001b[0m\u001b[1;33m\u001b[0m\u001b[1;33m\u001b[0m\u001b[0m\n\u001b[0;32m     50\u001b[0m     \u001b[0mn\u001b[0m \u001b[1;33m=\u001b[0m \u001b[0my\u001b[0m\u001b[1;33m.\u001b[0m\u001b[0mshape\u001b[0m\u001b[1;33m[\u001b[0m\u001b[1;36m0\u001b[0m\u001b[1;33m]\u001b[0m\u001b[1;33m\u001b[0m\u001b[1;33m\u001b[0m\u001b[0m\n",
      "\u001b[1;31mValueError\u001b[0m: The truth value of an array with more than one element is ambiguous. Use a.any() or a.all()"
     ]
    }
   ],
   "source": [
    "import numpy as np \n",
    "import pandas as pd\n",
    "from PIL import Image\n",
    "from os import listdir\n",
    "from os.path import isfile, join\n",
    "from keras.optimizers import Adam, SGD, Adagrad\n",
    "from keras.utils import to_categorical\n",
    "\n",
    "dir = 'train_images'\n",
    "extension='jpg'\n",
    "\n",
    "paths = []\n",
    "for f in listdir(dir):\n",
    "    if isfile(join(dir,f)):\n",
    "        path = join(dir,f)\n",
    "        number = f.split('_')[1]\n",
    "        number = int(number.split('.')[0])\n",
    "        paths.append((number, path)) \n",
    "paths.sort(key= lambda file: file[0])\n",
    "\n",
    "train_imgs = []\n",
    "for _, path in paths:\n",
    "    image = Image.open(path).convert(\"RGB\")\n",
    "    image=np.asarray(image)\n",
    "    train_imgs.append(image)\n",
    "\n",
    "X_train = np.array(train_imgs)/255.0\n",
    "y_train = pd.read_csv('train_labels.csv')['Expected']\n",
    "\n",
    "classes = np.unique(y_train)\n",
    "n_classes = len(np.unique(y_train))\n",
    "count = 0\n",
    "labels ={}\n",
    "for l in classes:\n",
    "    labels[l] = count\n",
    "    count+=1\n",
    "print(classes)\n",
    "y_train = np.array(y_train.replace(labels).tolist())\n",
    "y_train = to_categorical(y_train,classes)"
   ]
  },
  {
   "cell_type": "code",
   "execution_count": 76,
   "metadata": {},
   "outputs": [],
   "source": [
    "N, width, height, depth = X_train.shape\n"
   ]
  },
  {
   "cell_type": "code",
   "execution_count": 78,
   "metadata": {},
   "outputs": [
    {
     "name": "stdout",
     "output_type": "stream",
     "text": [
      "Model: \"sequential_7\"\n",
      "_________________________________________________________________\n",
      "Layer (type)                 Output Shape              Param #   \n",
      "=================================================================\n",
      "conv2d_16 (Conv2D)           (None, 128, 128, 32)      896       \n",
      "_________________________________________________________________\n",
      "activation_21 (Activation)   (None, 128, 128, 32)      0         \n",
      "_________________________________________________________________\n",
      "max_pooling2d_16 (MaxPooling (None, 64, 64, 32)        0         \n",
      "_________________________________________________________________\n",
      "conv2d_17 (Conv2D)           (None, 64, 64, 64)        18496     \n",
      "_________________________________________________________________\n",
      "activation_22 (Activation)   (None, 64, 64, 64)        0         \n",
      "_________________________________________________________________\n",
      "max_pooling2d_17 (MaxPooling (None, 32, 32, 64)        0         \n",
      "_________________________________________________________________\n",
      "conv2d_18 (Conv2D)           (None, 32, 32, 128)       73856     \n",
      "_________________________________________________________________\n",
      "activation_23 (Activation)   (None, 32, 32, 128)       0         \n",
      "_________________________________________________________________\n",
      "max_pooling2d_18 (MaxPooling (None, 16, 16, 128)       0         \n",
      "_________________________________________________________________\n",
      "flatten_6 (Flatten)          (None, 32768)             0         \n",
      "_________________________________________________________________\n",
      "dense_6 (Dense)              (None, 10)                327690    \n",
      "_________________________________________________________________\n",
      "activation_24 (Activation)   (None, 10)                0         \n",
      "_________________________________________________________________\n",
      "dense_7 (Dense)              (None, 10)                110       \n",
      "_________________________________________________________________\n",
      "activation_25 (Activation)   (None, 10)                0         \n",
      "=================================================================\n",
      "Total params: 421,048\n",
      "Trainable params: 421,048\n",
      "Non-trainable params: 0\n",
      "_________________________________________________________________\n"
     ]
    }
   ],
   "source": [
    "from keras.models import Sequential\n",
    "from keras.layers import Activation, Dropout, Dense\n",
    "from keras.layers import Conv2D, MaxPooling2D,AveragePooling2D, Flatten\n",
    "\n",
    "def create_cnn(classes, width, height, depth):\n",
    "      \n",
    "    model = Sequential()\n",
    "    model.add(Conv2D(32, (3, 3), padding='same', input_shape=(width, height, depth)))\n",
    "    model.add(Activation('relu'))\n",
    "    model.add(MaxPooling2D(pool_size=(2, 2)))\n",
    "\n",
    "    model.add(Conv2D(64, (3, 3), padding='same'))\n",
    "    model.add(Activation('relu'))\n",
    "    model.add(MaxPooling2D(pool_size=(2, 2)))\n",
    "\n",
    "    model.add(Conv2D(128, (3, 3), padding='same'))\n",
    "    model.add(Activation('relu'))\n",
    "    model.add(MaxPooling2D(pool_size=(2, 2)))\n",
    "\n",
    "    model.add(Flatten()) \n",
    "    model.add(Dense(10))\n",
    "    model.add(Activation('relu'))\n",
    "    #model.add(Dropout(0.5))\n",
    "\n",
    "    if classes == 2:\n",
    "        model.add(Dense(1))\n",
    "        model.add(Activation('sigmoid'))\n",
    "    else:\n",
    "        model.add(Dense(classes))\n",
    "        model.add(Activation('softmax'))\n",
    "    return model\n",
    "\n",
    "CNN = create_cnn(classes, width, height, depth)\n",
    "CNN.summary()"
   ]
  },
  {
   "cell_type": "code",
   "execution_count": null,
   "metadata": {},
   "outputs": [],
   "source": [
    "CNN.fit(X_train,y_train, epochs=25, batch_size=256, verbose=0)\n",
    "y_hat = CNN.predict(X_train)"
   ]
  }
 ],
 "metadata": {
  "colab": {
   "collapsed_sections": [],
   "name": "[ANN]Taller1.ipynb",
   "provenance": []
  },
  "kernelspec": {
   "display_name": "Python 3",
   "language": "python",
   "name": "python3"
  },
  "language_info": {
   "codemirror_mode": {
    "name": "ipython",
    "version": 3
   },
   "file_extension": ".py",
   "mimetype": "text/x-python",
   "name": "python",
   "nbconvert_exporter": "python",
   "pygments_lexer": "ipython3",
   "version": "3.7.3"
  }
 },
 "nbformat": 4,
 "nbformat_minor": 1
}
